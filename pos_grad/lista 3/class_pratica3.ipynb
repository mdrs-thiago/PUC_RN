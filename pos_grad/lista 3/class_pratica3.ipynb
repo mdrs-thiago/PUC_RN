{
  "cells": [
    {
      "attachments": {},
      "cell_type": "markdown",
      "metadata": {
        "id": "URkPYAKXKDla"
      },
      "source": [
        "# PUC-Rio \n",
        "## Departamento de Engenharia Elétrica\n",
        "## Trabalho 3 - Mapas de Kohonen\n",
        "\n",
        "Estudante:"
      ]
    },
    {
      "cell_type": "code",
      "execution_count": 1,
      "metadata": {
        "colab": {
          "base_uri": "https://localhost:8080/"
        },
        "id": "oNLbCYUnYF24",
        "outputId": "9b0d999a-2ea8-44b9-ed8b-c65847fc3a38"
      },
      "outputs": [
        {
          "name": "stdout",
          "output_type": "stream",
          "text": [
            "Cloning into 'minisom'...\n",
            "remote: Enumerating objects: 1656, done.\u001b[K\n",
            "remote: Counting objects: 100% (1179/1179), done.\u001b[K\n",
            "remote: Compressing objects: 100% (559/559), done.\u001b[K\n",
            "remote: Total 1656 (delta 643), reused 1143 (delta 619), pack-reused 477\u001b[K\n",
            "Receiving objects: 100% (1656/1656), 14.61 MiB | 18.16 MiB/s, done.\n",
            "Resolving deltas: 100% (900/900), done.\n"
          ]
        }
      ],
      "source": [
        "!git clone https://github.com/mdrs-thiago/minisom\n",
        "import os \n",
        "os.chdir('minisom')"
      ]
    },
    {
      "cell_type": "code",
      "execution_count": 2,
      "metadata": {
        "id": "tXOHaoma9CHB"
      },
      "outputs": [],
      "source": []
    },
    {
      "cell_type": "code",
      "execution_count": null,
      "metadata": {
        "id": "M4HwMJfKYKBV"
      },
      "outputs": [],
      "source": [
        "import numpy as np\n",
        "import pandas as pd\n",
        "import matplotlib.pyplot as plt \n",
        "from sklearn.preprocessing import minmax_scale\n",
        "\n",
        "from minisom import MiniSom"
      ]
    },
    {
      "cell_type": "code",
      "execution_count": null,
      "metadata": {
        "id": "VMya6BRd-yHB"
      },
      "outputs": [],
      "source": [
        "dataset = pd.read_csv('https://raw.githubusercontent.com/mdrs-thiago/PUC_Redes_Neurais/main/datasets/c_thyroid.csv')"
      ]
    },
    {
      "cell_type": "code",
      "execution_count": null,
      "metadata": {
        "id": "HN9T4Lf3-yAa"
      },
      "outputs": [],
      "source": [
        "values = dataset.values[:,:-1]"
      ]
    },
    {
      "attachments": {},
      "cell_type": "markdown",
      "metadata": {
        "id": "mASJCy9S-ymi"
      },
      "source": [
        "## Parte 1 - Testando configurações"
      ]
    },
    {
      "attachments": {},
      "cell_type": "markdown",
      "metadata": {
        "id": "LiRWrvX7_zNc"
      },
      "source": [
        "Nesta primeira etapa, iremos investigar como a configuração do mapa pode mudar de acordo com a escolha de parâmetros. "
      ]
    },
    {
      "attachments": {},
      "cell_type": "markdown",
      "metadata": {
        "id": "rDQsf1ceASYD"
      },
      "source": [
        "##### 1. Escolha os parâmetros para o primeiro teste usando SOM. Para cada parâmetro, justifique sua escolha. Avalie o resultado."
      ]
    },
    {
      "cell_type": "code",
      "execution_count": null,
      "metadata": {
        "cellView": "form",
        "id": "5q0tXEpAASF8"
      },
      "outputs": [],
      "source": [
        "#decay function \n",
        "\n",
        "def decay_fcn(lr,actual_t,max_t):\n",
        "    '''\n",
        "    Função para decaimento da taxa de aprendizado. \n",
        "    \n",
        "    ## INPUTS:\n",
        "    lr - Taxa de aprendizado inicial\n",
        "    actual_t - Tempo atual da iteração\n",
        "    max_t - Tempo máximo da iteração\n",
        "\n",
        "    ## OUTPUT:\n",
        "    - taxa de aprendizado atualizada.\n",
        "    '''\n",
        "\n",
        "    new_lr = lr/(1 + 2*actual_t/max_t)\n",
        "\n",
        "    return new_lr\n",
        "\n",
        "\n",
        "m = 10 #Dimensão X do mapa de Kohonen\n",
        "n = 10 #Dimensão Y do mapa de Kohonen\n",
        "lr_ordering = 0.001 #Taxa de aprendizado - Ordering phase\n",
        "lr_finetuning = 0.0001 #Taxa de aprendizado - Finetuning phase\n",
        "\n",
        "topology = \"hexagonal\"\n",
        "\n",
        "ordering_time = 1000 \n",
        "finetuning_time = 10000 \n",
        "decay_fun =  decay_fcn \n",
        "\n",
        "\n",
        "#Dimensão do vetor de entrada\n",
        "input_len = values.shape[1]\n",
        "\n",
        "X = minmax_scale(values)\n",
        "\n",
        "\n",
        "\n"
      ]
    },
    {
      "cell_type": "code",
      "execution_count": null,
      "metadata": {
        "id": "YllYcS-q_yfk"
      },
      "outputs": [],
      "source": [
        "som = MiniSom(m,n,input_len,learning_rate=lr_ordering,topology=topology,decay_function=decay_fcn)\n",
        "som.pca_weights_init(values)\n",
        "\n",
        "som.train_random(X, ordering_time, verbose=True)\n"
      ]
    },
    {
      "cell_type": "code",
      "execution_count": null,
      "metadata": {},
      "outputs": [],
      "source": [
        "plt.plot(som._quantization_error,linewidth=2,label='Quantization error')\n",
        "plt.plot(som._topographic_error,linewidth=2, label='Topographic error')\n",
        "plt.legend()\n",
        "plt.grid()"
      ]
    },
    {
      "cell_type": "code",
      "execution_count": null,
      "metadata": {},
      "outputs": [],
      "source": [
        "som._learning_rate = lr_finetuning #Para mudar a taxa de aprendizado durante o período de finetuning \n",
        "\n",
        "som.train_random(X, finetuning_time, verbose=True)\n"
      ]
    },
    {
      "cell_type": "code",
      "execution_count": null,
      "metadata": {},
      "outputs": [],
      "source": [
        "plt.plot(som._quantization_error,linewidth=2,label='Quantization error')\n",
        "plt.plot(som._topographic_error,linewidth=2, label='Topographic error')\n",
        "plt.legend()\n",
        "plt.grid()"
      ]
    },
    {
      "attachments": {},
      "cell_type": "markdown",
      "metadata": {
        "id": "oxe4_fkuBS4M"
      },
      "source": [
        "##### 2. Modifique a topologia da rede. Teste diferentes valores e avalie o resultado."
      ]
    },
    {
      "cell_type": "code",
      "execution_count": null,
      "metadata": {
        "id": "EFEycZ2uBn02"
      },
      "outputs": [],
      "source": []
    },
    {
      "cell_type": "code",
      "execution_count": null,
      "metadata": {
        "id": "myes9A1nBv7k"
      },
      "outputs": [],
      "source": []
    },
    {
      "attachments": {},
      "cell_type": "markdown",
      "metadata": {
        "id": "F0Hw3MW-BwPb"
      },
      "source": [
        "##### 3. Modifique a normalização dos dados de entrada e avalie o resultado obtido. Esta mudança tem algum efeito no mapa gerado?"
      ]
    },
    {
      "cell_type": "code",
      "execution_count": null,
      "metadata": {
        "id": "CLOlNNn6CMex"
      },
      "outputs": [],
      "source": []
    },
    {
      "cell_type": "code",
      "execution_count": null,
      "metadata": {
        "id": "klli8lSZCPlD"
      },
      "outputs": [],
      "source": []
    },
    {
      "attachments": {},
      "cell_type": "markdown",
      "metadata": {
        "id": "OjkOYjgNCP0l"
      },
      "source": [
        "##### 4. Modifique o processo de treinamento durante a fase de ordenação. Avalie o resultado gerado."
      ]
    },
    {
      "cell_type": "code",
      "execution_count": null,
      "metadata": {
        "id": "YDJVDGB5CYwV"
      },
      "outputs": [],
      "source": []
    },
    {
      "cell_type": "code",
      "execution_count": null,
      "metadata": {
        "id": "dGNceoR2CbmJ"
      },
      "outputs": [],
      "source": []
    },
    {
      "attachments": {},
      "cell_type": "markdown",
      "metadata": {
        "id": "tZ-b-a_dCb5p"
      },
      "source": [
        "##### 5. Modifique o processo de treinamento durante a fase de ajuste fino. Avalie o resultado gerado."
      ]
    },
    {
      "cell_type": "code",
      "execution_count": null,
      "metadata": {
        "id": "n9BH6CwNCgTb"
      },
      "outputs": [],
      "source": []
    },
    {
      "cell_type": "code",
      "execution_count": null,
      "metadata": {
        "id": "S5dYiExjCg3M"
      },
      "outputs": [],
      "source": []
    },
    {
      "attachments": {},
      "cell_type": "markdown",
      "metadata": {
        "id": "3w7DF0rGChMz"
      },
      "source": [
        "##### 6. Modifique a função de decaimento da taxa de aprendizado. Esta mudança gera algum impacto no mapa gerado? Justifique"
      ]
    },
    {
      "cell_type": "code",
      "execution_count": null,
      "metadata": {
        "id": "dv9N0gvSCwWp"
      },
      "outputs": [],
      "source": []
    },
    {
      "cell_type": "code",
      "execution_count": null,
      "metadata": {
        "id": "KqIoyTn8Cw3F"
      },
      "outputs": [],
      "source": []
    },
    {
      "attachments": {},
      "cell_type": "markdown",
      "metadata": {
        "id": "5MD9OgOZCxCb"
      },
      "source": [
        "##### 7. Altere a função de vizinhança. Avalie o resultado."
      ]
    },
    {
      "cell_type": "code",
      "execution_count": null,
      "metadata": {
        "id": "5U_qiCP5C_by"
      },
      "outputs": [],
      "source": []
    },
    {
      "cell_type": "code",
      "execution_count": null,
      "metadata": {
        "id": "oZ_Izm0DDAKU"
      },
      "outputs": [],
      "source": []
    },
    {
      "attachments": {},
      "cell_type": "markdown",
      "metadata": {
        "id": "fs6k_aMkDAYT"
      },
      "source": [
        "## Parte 2 - Análise dos mapas"
      ]
    },
    {
      "attachments": {},
      "cell_type": "markdown",
      "metadata": {
        "id": "qRRbjux4DMHC"
      },
      "source": [
        "##### 1. Teste novas configurações para o modelo SOM para obter um melhor resultado. Justifique a escolha dos parâmetros do modelo selecionado."
      ]
    },
    {
      "cell_type": "code",
      "execution_count": null,
      "metadata": {
        "id": "lo8dRckEDC0e"
      },
      "outputs": [],
      "source": []
    },
    {
      "attachments": {},
      "cell_type": "markdown",
      "metadata": {
        "id": "6VE-F0VXEXOI"
      },
      "source": [
        "##### 2. Utilizando a melhor configuração do item anterior, analise os diferentes mapas fornecidos e caracterize os grupos de pacientes obtidos."
      ]
    },
    {
      "cell_type": "code",
      "execution_count": null,
      "metadata": {
        "id": "cyWcQLuLEb0A"
      },
      "outputs": [],
      "source": []
    }
  ],
  "metadata": {
    "colab": {
      "name": "class_pratica3.ipynb",
      "provenance": []
    },
    "kernelspec": {
      "display_name": "Python 3",
      "name": "python3"
    },
    "language_info": {
      "name": "python"
    }
  },
  "nbformat": 4,
  "nbformat_minor": 0
}
